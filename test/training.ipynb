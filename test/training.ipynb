{
 "cells": [
  {
   "cell_type": "code",
   "execution_count": 2,
   "metadata": {},
   "outputs": [],
   "source": [
    "import pandas as pd; import numpy as np\n",
    "import seaborn as sns\n",
    "from sklearn.neighbors import NearestNeighbors\n",
    "from sklearn.model_selection import train_test_split\n",
    "import pickle"
   ]
  },
  {
   "cell_type": "code",
   "execution_count": null,
   "metadata": {},
   "outputs": [],
   "source": [
    "#Step 0: Load\n",
    "ifile = './data/pets1k.csv'\n",
    "df = pd.read_csv(ifile,header=0)\n",
    "#Step 1: Prepare the data\n",
    "#Features we want: Price, Popularity, Age, Personality, Size\n",
    "trimdf = pd.DataFrame()\n",
    "trimdf['price'] = df['price']\n",
    "trimdf['age'] = df['age']\n",
    "trimdf['personality]'] = df['personality']\n",
    "trimdf['size'] = df['size']\n",
    "trimdf"
   ]
  }
 ],
 "metadata": {
  "kernelspec": {
   "display_name": "base",
   "language": "python",
   "name": "python3"
  },
  "language_info": {
   "codemirror_mode": {
    "name": "ipython",
    "version": 3
   },
   "file_extension": ".py",
   "mimetype": "text/x-python",
   "name": "python",
   "nbconvert_exporter": "python",
   "pygments_lexer": "ipython3",
   "version": "3.10.9"
  }
 },
 "nbformat": 4,
 "nbformat_minor": 2
}
